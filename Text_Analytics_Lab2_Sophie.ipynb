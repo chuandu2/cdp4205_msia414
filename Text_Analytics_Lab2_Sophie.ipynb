{
 "cells": [
  {
   "cell_type": "markdown",
   "metadata": {},
   "source": [
    "## Text Analytics HW2\n",
    "Sophie Du"
   ]
  },
  {
   "cell_type": "code",
   "execution_count": 1,
   "metadata": {
    "ExecuteTime": {
     "end_time": "2019-10-24T22:06:53.503248Z",
     "start_time": "2019-10-24T22:06:51.800082Z"
    }
   },
   "outputs": [],
   "source": [
    "import gensim\n",
    "from gensim.test.utils import common_texts, get_tmpfile\n",
    "from gensim.models import Word2Vec\n",
    "import nltk\n",
    "#nltk.download()\n",
    "from nltk.tokenize import sent_tokenize\n",
    "from nltk.tokenize import word_tokenize\n",
    "import re\n",
    "import string\n",
    "\n",
    "path = get_tmpfile(\"word2vec.model\")"
   ]
  },
  {
   "cell_type": "markdown",
   "metadata": {},
   "source": [
    "### Unit Tests"
   ]
  },
  {
   "cell_type": "code",
   "execution_count": 134,
   "metadata": {
    "ExecuteTime": {
     "end_time": "2019-10-25T03:43:21.131167Z",
     "start_time": "2019-10-25T03:43:21.044862Z"
    }
   },
   "outputs": [
    {
     "name": "stdout",
     "output_type": "stream",
     "text": [
      "All unit tests passed; cleaned and tokenized corpus from sample text is shown below\n"
     ]
    },
    {
     "data": {
      "text/plain": [
       "['newsgroup',\n",
       " 'sci',\n",
       " 'meddocument',\n",
       " 'id',\n",
       " 'from',\n",
       " 'bed',\n",
       " 'intacc',\n",
       " 'uucp',\n",
       " 'deb',\n",
       " 'waddington',\n",
       " 'subject',\n",
       " 'info',\n",
       " 'needed',\n",
       " 'gaucher',\n",
       " \"'s\",\n",
       " 'disease']"
      ]
     },
     "execution_count": 134,
     "metadata": {},
     "output_type": "execute_result"
    }
   ],
   "source": [
    "def run_unit_tests():\n",
    "    \"\"\"if all tests pass, then return cleaned and tokenized corpus\"\"\"\n",
    "    sample = 'Newsgroup: sci.med\\ndocument_id: 57110\\nFrom: bed@intacc.uucp (Deb Waddington)\\nSubject: INFO NEEDED: Gaucher\\'s Disease\\n'\n",
    "\n",
    "    ## test \\n removal\n",
    "    def test_remove_n():\n",
    "        remove_test = sample.replace('\\n', '')\n",
    "        remove_true = \"Newsgroup: sci.meddocument_id: 57110From: bed@intacc.uucp (Deb Waddington)Subject: INFO NEEDED: Gaucher's Disease\"\n",
    "        assert remove_test == remove_true\n",
    "        return remove_test\n",
    "\n",
    "    ## test lower case\n",
    "    ## pass result from last step\n",
    "    sample = test_remove_n()\n",
    "    def test_lower():\n",
    "        lower_test = sample.lower()\n",
    "        lower_true = \"newsgroup: sci.meddocument_id: 57110from: bed@intacc.uucp (deb waddington)subject: info needed: gaucher's disease\"\n",
    "        assert lower_test == lower_true\n",
    "        return lower_test\n",
    "\n",
    "    ## pass result from last step\n",
    "    sample = test_lower()\n",
    "    ## test number removal\n",
    "    def test_remove_num():\n",
    "        remove_num_test = re.sub(r'\\d+', '', sample)\n",
    "        remove_num_true = \"newsgroup: sci.meddocument_id: from: bed@intacc.uucp (deb waddington)subject: info needed: gaucher's disease\"\n",
    "        assert remove_num_test == remove_num_true\n",
    "        return remove_num_test\n",
    "\n",
    "    ## pass result from last step\n",
    "    sample = test_remove_num()\n",
    "    ## test sentence tokenization output type\n",
    "    def test_sent_token_type():\n",
    "        sent_type_test = type(sent_tokenize(sample))\n",
    "        assert sent_type_test == 'list'\n",
    "\n",
    "    ## test sentence tokenization output content\n",
    "    def test_sent_token_cont():\n",
    "        sent_cont_test = sent_tokenize(sample)\n",
    "        sent_cont_true = [\"newsgroup: sci.meddocument_id: from: bed@intacc.uucp (deb waddington)subject: info needed: gaucher's disease\"]\n",
    "        assert sent_cont_test == sent_cont_true\n",
    "        return sent_cont_test\n",
    "\n",
    "    ## pass result from last step\n",
    "    sample = test_sent_token_cont()\n",
    "    # test symbol and punctuation removal\n",
    "    def test_remove_symbol():\n",
    "        for s in sample:\n",
    "            remove_symbol_test = re.sub(r'[!”#$%&’()*+,-./:;<=>?@[\\]^_`{|}~]', ' ', s)\n",
    "            remove_symbol_true = \"newsgroup  sci meddocument id  from  bed intacc uucp  deb waddington subject  info needed  gaucher's disease\"\n",
    "            assert remove_symbol_test == remove_symbol_true\n",
    "            return remove_symbol_test\n",
    "\n",
    "    ## pass result from last step\n",
    "    sample = test_remove_symbol()\n",
    "    ## test word tokenization type\n",
    "    def test_word_token_type():\n",
    "        word_type_test = type(word_tokenize(sample))\n",
    "        assert word_type_test == 'list'\n",
    "\n",
    "    ## test word tokenization content\n",
    "    def test_word_token_cont():\n",
    "        word_cont_test = word_tokenize(sample)\n",
    "        word_cont_true = ['newsgroup', 'sci', 'meddocument', 'id', 'from', \n",
    "                          'bed', 'intacc', 'uucp', 'deb', 'waddington', \n",
    "                          'subject', 'info', 'needed', 'gaucher', \"'s\", 'disease']\n",
    "        assert word_cont_test == word_cont_true\n",
    "        return word_cont_test\n",
    "    \n",
    "    print('All unit tests passed; cleaned and tokenized corpus from sample text is shown below')\n",
    "    \n",
    "    return test_word_token_cont()\n",
    "\n",
    "run_unit_tests()\n"
   ]
  },
  {
   "cell_type": "markdown",
   "metadata": {},
   "source": [
    "### Preprocessing"
   ]
  },
  {
   "cell_type": "code",
   "execution_count": 7,
   "metadata": {
    "ExecuteTime": {
     "end_time": "2019-10-24T22:08:08.823798Z",
     "start_time": "2019-10-24T22:08:08.669851Z"
    }
   },
   "outputs": [],
   "source": [
    "## open text and normalization\n",
    "with open('Lab1/20-newsgroups/sci.med.txt', encoding = 'utf8', errors = 'ignore') as f:\n",
    "    ## remove '\\n'\n",
    "    text = str(f.read().replace('\\n', ''))\n",
    "    ## lower cases text\n",
    "    text = text.lower()\n",
    "    ## remove numbers\n",
    "    text = re.sub(r'\\d+', '', text)"
   ]
  },
  {
   "cell_type": "code",
   "execution_count": 3,
   "metadata": {
    "ExecuteTime": {
     "end_time": "2019-10-24T22:07:05.325205Z",
     "start_time": "2019-10-24T22:07:03.960184Z"
    }
   },
   "outputs": [],
   "source": [
    "## tokenize sentences\n",
    "sent_nltk = sent_tokenize(text); #sent_nltk"
   ]
  },
  {
   "cell_type": "code",
   "execution_count": 4,
   "metadata": {
    "ExecuteTime": {
     "end_time": "2019-10-24T22:07:11.575193Z",
     "start_time": "2019-10-24T22:07:07.273887Z"
    }
   },
   "outputs": [],
   "source": [
    "## preprocess text and generate corpus for model\n",
    "clean_text = []\n",
    "corpus = []\n",
    "for sent in sent_nltk:\n",
    "    ## remove symbols\n",
    "    corp = re.sub(r'[!”#$%&’()*+,-./:;<=>?@[\\]^_`{|}~]', ' ', sent)\n",
    "    ## output clean text\n",
    "    clean_text.append(corp)\n",
    "    ## tokenize words\n",
    "    corpus.append(word_tokenize(corp))"
   ]
  },
  {
   "cell_type": "markdown",
   "metadata": {},
   "source": [
    "- Here's the preprocessing result after tokenization and normalizations including converting to lower case, removing alphanumeric characters, numbers, symbols and white spaces, and replacing punctuations with blank."
   ]
  },
  {
   "cell_type": "code",
   "execution_count": 5,
   "metadata": {
    "ExecuteTime": {
     "end_time": "2019-10-18T15:51:27.896058Z",
     "start_time": "2019-10-18T15:51:27.876069Z"
    },
    "scrolled": true
   },
   "outputs": [
    {
     "data": {
      "text/plain": [
       "[\"newsgroup  sci meddocument id  from  bed intacc uucp  deb waddington subject  info needed  gaucher's diseasei have a  yr old male friend  misdiagnosed as having osteopporosis for two years  who recently found out that his illness is the rare gaucher's disease \",\n",
       " \"gaucher's disease symptoms include  brittle bones  he lost   inches off his hieght   enlarged liver and spleen  internal bleeding  and fatigue  all the time  \"]"
      ]
     },
     "execution_count": 5,
     "metadata": {},
     "output_type": "execute_result"
    }
   ],
   "source": [
    "clean_text[:2]"
   ]
  },
  {
   "cell_type": "code",
   "execution_count": 27,
   "metadata": {
    "ExecuteTime": {
     "end_time": "2019-10-18T22:47:02.609966Z",
     "start_time": "2019-10-18T22:47:02.598756Z"
    },
    "scrolled": true
   },
   "outputs": [
    {
     "data": {
      "text/plain": [
       "['gaucher',\n",
       " \"'s\",\n",
       " 'disease',\n",
       " 'symptoms',\n",
       " 'include',\n",
       " 'brittle',\n",
       " 'bones',\n",
       " 'he',\n",
       " 'lost',\n",
       " 'inches',\n",
       " 'off',\n",
       " 'his',\n",
       " 'hieght',\n",
       " 'enlarged',\n",
       " 'liver',\n",
       " 'and',\n",
       " 'spleen',\n",
       " 'internal',\n",
       " 'bleeding',\n",
       " 'and',\n",
       " 'fatigue',\n",
       " 'all',\n",
       " 'the',\n",
       " 'time']"
      ]
     },
     "execution_count": 27,
     "metadata": {},
     "output_type": "execute_result"
    }
   ],
   "source": [
    "corpus[1]"
   ]
  },
  {
   "cell_type": "markdown",
   "metadata": {},
   "source": [
    "### Compare Embedding Sizes\n",
    "Keep window and model type the same"
   ]
  },
  {
   "cell_type": "markdown",
   "metadata": {
    "ExecuteTime": {
     "end_time": "2019-10-11T16:34:49.466395Z",
     "start_time": "2019-10-11T16:34:49.459739Z"
    }
   },
   "source": [
    "#### Experiment 1: Model using CBOW, with embedding size=100"
   ]
  },
  {
   "cell_type": "code",
   "execution_count": 7,
   "metadata": {
    "ExecuteTime": {
     "end_time": "2019-10-18T15:51:30.268700Z",
     "start_time": "2019-10-18T15:51:27.911848Z"
    }
   },
   "outputs": [
    {
     "name": "stdout",
     "output_type": "stream",
     "text": [
      "Word: disease\n",
      "5 closest neighbors are:\n",
      "[('treatment', 0.8861936330795288), ('drug', 0.8447970151901245), ('diseases', 0.840467095375061), ('fungal', 0.8193104267120361), ('infectious', 0.8182231783866882)]\n",
      "--------------------------------------------------\n",
      "Word: treatment\n",
      "5 closest neighbors are:\n",
      "[('drug', 0.922074556350708), ('disease', 0.8861936330795288), ('side', 0.8760125041007996), ('risk', 0.8690671920776367), ('effects', 0.8654755353927612)]\n",
      "--------------------------------------------------\n",
      "Word: drug\n",
      "5 closest neighbors are:\n",
      "[('treatment', 0.9220744371414185), ('oral', 0.8860127329826355), ('cost', 0.8851606249809265), ('common', 0.8817379474639893), ('brain', 0.8761096596717834)]\n",
      "--------------------------------------------------\n",
      "Word: effective\n",
      "5 closest neighbors are:\n",
      "[('common', 0.9430716037750244), ('causing', 0.9008839130401611), ('important', 0.9001145958900452), ('commonly', 0.887724757194519), ('antibiotic', 0.8787003755569458)]\n",
      "--------------------------------------------------\n",
      "Word: patient\n",
      "5 closest neighbors are:\n",
      "[('condition', 0.8912587761878967), ('given', 0.859172523021698), ('taken', 0.8478406667709351), ('difficult', 0.8326812982559204), ('getting', 0.8300775289535522)]\n",
      "--------------------------------------------------\n"
     ]
    }
   ],
   "source": [
    "model1 = Word2Vec(corpus, min_count = 10, size = 100, \n",
    "                  workers = 4, window = 5, sg = 0)\n",
    "## cosine similarity\n",
    "word_list = ['disease', 'treatment', 'drug', 'effective', 'patient']\n",
    "for i in word_list:\n",
    "    print('Word: %s' %i)\n",
    "    print('5 closest neighbors are:')\n",
    "    print(model1.wv.most_similar(i)[:5])\n",
    "    print('-'*50)"
   ]
  },
  {
   "cell_type": "markdown",
   "metadata": {
    "ExecuteTime": {
     "end_time": "2019-10-11T16:41:35.058121Z",
     "start_time": "2019-10-11T16:41:35.043903Z"
    }
   },
   "source": [
    "#### Experiment 2: Model using CBOW, with embedding size = 200"
   ]
  },
  {
   "cell_type": "code",
   "execution_count": 8,
   "metadata": {
    "ExecuteTime": {
     "end_time": "2019-10-18T15:51:33.055551Z",
     "start_time": "2019-10-18T15:51:30.272341Z"
    }
   },
   "outputs": [
    {
     "name": "stdout",
     "output_type": "stream",
     "text": [
      "Word: disease\n",
      "5 closest neighbors are:\n",
      "[('treatment', 0.9069466590881348), ('drug', 0.8495345115661621), ('common', 0.8433587551116943), ('infection', 0.8334235548973083), ('diseases', 0.8315562605857849)]\n",
      "--------------------------------------------------\n",
      "Word: treatment\n",
      "5 closest neighbors are:\n",
      "[('disease', 0.9069467782974243), ('drug', 0.9051125049591064), ('therapy', 0.8981338739395142), ('common', 0.876920759677887), ('infection', 0.8664539456367493)]\n",
      "--------------------------------------------------\n",
      "Word: drug\n",
      "5 closest neighbors are:\n",
      "[('common', 0.9112310409545898), ('treatment', 0.9051125049591064), ('brain', 0.8861269950866699), ('side', 0.8758144378662109), ('itraconazole', 0.8756904602050781)]\n",
      "--------------------------------------------------\n",
      "Word: effective\n",
      "5 closest neighbors are:\n",
      "[('common', 0.9268741607666016), ('non', 0.9248567223548889), ('important', 0.9118614196777344), ('causing', 0.9111785888671875), ('likely', 0.902948260307312)]\n",
      "--------------------------------------------------\n",
      "Word: patient\n",
      "5 closest neighbors are:\n",
      "[('given', 0.8689813613891602), ('normal', 0.8594050407409668), ('antibiotic', 0.8579296469688416), ('antibiotics', 0.8565875291824341), ('hand', 0.8512359857559204)]\n",
      "--------------------------------------------------\n"
     ]
    }
   ],
   "source": [
    "model2 = Word2Vec(corpus, min_count = 10, size = 200, \n",
    "                  workers = 4, window = 5, sg = 0)\n",
    "## cosine similarity\n",
    "word_list = ['disease', 'treatment', 'drug', 'effective', 'patient']\n",
    "for i in word_list:\n",
    "    print('Word: %s' %i)\n",
    "    print('5 closest neighbors are:')\n",
    "    print(model2.wv.most_similar(i)[:5])\n",
    "    print('-'*50)"
   ]
  },
  {
   "cell_type": "markdown",
   "metadata": {},
   "source": [
    "#### Experiment 3: Model using CBOW, with embedding size = 300"
   ]
  },
  {
   "cell_type": "code",
   "execution_count": 25,
   "metadata": {
    "ExecuteTime": {
     "end_time": "2019-10-18T16:11:32.757874Z",
     "start_time": "2019-10-18T16:11:28.842028Z"
    }
   },
   "outputs": [
    {
     "name": "stdout",
     "output_type": "stream",
     "text": [
      "Word: disease\n",
      "5 closest neighbors are:\n",
      "[('treatment', 0.9088848233222961), ('drug', 0.8956438302993774), ('diseases', 0.8427432179450989), ('common', 0.8276169896125793), ('lyme', 0.8261592388153076)]\n",
      "--------------------------------------------------\n",
      "Word: treatment\n",
      "5 closest neighbors are:\n",
      "[('drug', 0.93724125623703), ('disease', 0.9088848233222961), ('therapy', 0.9019935131072998), ('common', 0.8979092836380005), ('risk', 0.8933203220367432)]\n",
      "--------------------------------------------------\n",
      "Word: drug\n",
      "5 closest neighbors are:\n",
      "[('treatment', 0.9372413158416748), ('common', 0.9002607464790344), ('brain', 0.8975883722305298), ('disease', 0.8956438899040222), ('anti', 0.890290379524231)]\n",
      "--------------------------------------------------\n",
      "Word: effective\n",
      "5 closest neighbors are:\n",
      "[('common', 0.955552339553833), ('antibiotic', 0.917009174823761), ('significant', 0.9128857851028442), ('non', 0.9112560153007507), ('positive', 0.9069941639900208)]\n",
      "--------------------------------------------------\n",
      "Word: patient\n",
      "5 closest neighbors are:\n",
      "[('given', 0.9010419249534607), ('condition', 0.8941221237182617), ('antibiotics', 0.8829540014266968), ('made', 0.8776760697364807), ('pms', 0.8770692348480225)]\n",
      "--------------------------------------------------\n"
     ]
    }
   ],
   "source": [
    "model3 = Word2Vec(corpus, min_count = 10, size = 500, #500\n",
    "                  workers = 4, window = 5, sg = 0)\n",
    "## cosine similarity\n",
    "word_list = ['disease', 'treatment', 'drug', 'effective', 'patient']\n",
    "for i in word_list:\n",
    "    print('Word: %s' %i)\n",
    "    print('5 closest neighbors are:')\n",
    "    print(model3.wv.most_similar(i)[:5])\n",
    "    print('-'*50)"
   ]
  },
  {
   "cell_type": "markdown",
   "metadata": {},
   "source": [
    "#### Experiment 4: Model with skip-gram, with embedding size=100"
   ]
  },
  {
   "cell_type": "code",
   "execution_count": 10,
   "metadata": {
    "ExecuteTime": {
     "end_time": "2019-10-18T15:51:42.492796Z",
     "start_time": "2019-10-18T15:51:36.683722Z"
    }
   },
   "outputs": [
    {
     "name": "stdout",
     "output_type": "stream",
     "text": [
      "Word: disease\n",
      "5 closest neighbors are:\n",
      "[('alzheimer', 0.737398087978363), ('coronary', 0.6893927454948425), ('lyme', 0.6597265601158142), ('diseases', 0.6523576974868774), ('diagnosing', 0.643358588218689)]\n",
      "--------------------------------------------------\n",
      "Word: treatment\n",
      "5 closest neighbors are:\n",
      "[('radiation', 0.7403196096420288), ('invasive', 0.7140617370605469), ('ld', 0.7010745406150818), ('treating', 0.70063316822052), ('establish', 0.6939319968223572)]\n",
      "--------------------------------------------------\n",
      "Word: drug\n",
      "5 closest neighbors are:\n",
      "[('administration', 0.6866377592086792), ('radiation', 0.6757822036743164), ('edta', 0.6732007265090942), ('particulate', 0.6669666171073914), ('approved', 0.666622519493103)]\n",
      "--------------------------------------------------\n",
      "Word: effective\n",
      "5 closest neighbors are:\n",
      "[('ad', 0.7535492181777954), ('prostate', 0.7476179003715515), ('safe', 0.732750654220581), ('element', 0.7310301065444946), ('treatable', 0.7298332452774048)]\n",
      "--------------------------------------------------\n",
      "Word: patient\n",
      "5 closest neighbors are:\n",
      "[('practitioner', 0.7590723037719727), ('benefits', 0.7395164966583252), ('lowered', 0.7163631319999695), ('medications', 0.7048937082290649), ('pharmacist', 0.6945156455039978)]\n",
      "--------------------------------------------------\n"
     ]
    }
   ],
   "source": [
    "model4 = Word2Vec(corpus, min_count = 10, size = 100, \n",
    "                  workers = 4, window = 5, sg = 1)\n",
    "## cosine similarity\n",
    "word_list = ['disease', 'treatment', 'drug', 'effective', 'patient']\n",
    "for i in word_list:\n",
    "    print('Word: %s' %i)\n",
    "    print('5 closest neighbors are:')\n",
    "    print(model4.wv.most_similar(i)[:5])\n",
    "    print('-'*50)"
   ]
  },
  {
   "cell_type": "markdown",
   "metadata": {},
   "source": [
    "#### Experiment 5: Model with skip-gram, with embedding size=200"
   ]
  },
  {
   "cell_type": "code",
   "execution_count": 11,
   "metadata": {
    "ExecuteTime": {
     "end_time": "2019-10-18T15:51:49.452255Z",
     "start_time": "2019-10-18T15:51:42.495811Z"
    }
   },
   "outputs": [
    {
     "name": "stdout",
     "output_type": "stream",
     "text": [
      "Word: disease\n",
      "5 closest neighbors are:\n",
      "[('diseases', 0.6587753295898438), ('lyme', 0.6549140214920044), ('alzheimer', 0.6486173868179321), ('coronary', 0.6450457572937012), ('infectious', 0.6255733966827393)]\n",
      "--------------------------------------------------\n",
      "Word: treatment\n",
      "5 closest neighbors are:\n",
      "[('radiation', 0.7156550288200378), ('ld', 0.6969175338745117), ('nizoral', 0.6954584717750549), ('dysfunction', 0.6922903060913086), ('itraconazole', 0.689016580581665)]\n",
      "--------------------------------------------------\n",
      "Word: drug\n",
      "5 closest neighbors are:\n",
      "[('administration', 0.7087869048118591), ('approved', 0.7040862441062927), ('multiple', 0.7028494477272034), ('radiation', 0.6922392249107361), ('resistant', 0.6900363564491272)]\n",
      "--------------------------------------------------\n",
      "Word: effective\n",
      "5 closest neighbors are:\n",
      "[('prostate', 0.7670298218727112), ('typically', 0.7625733613967896), ('ad', 0.761953592300415), ('safe', 0.7570924162864685), ('formaldehyde', 0.7559657096862793)]\n",
      "--------------------------------------------------\n",
      "Word: patient\n",
      "5 closest neighbors are:\n",
      "[('medications', 0.6943399906158447), ('lowered', 0.6908197402954102), ('advised', 0.6907704472541809), ('practitioner', 0.6869900822639465), ('weakness', 0.6841328740119934)]\n",
      "--------------------------------------------------\n"
     ]
    }
   ],
   "source": [
    "model5 = Word2Vec(corpus, min_count = 10, size = 200, \n",
    "                  workers = 4, window = 5, sg = 1)\n",
    "## cosine similarity\n",
    "word_list = ['disease', 'treatment', 'drug', 'effective', 'patient']\n",
    "for i in word_list:\n",
    "    print('Word: %s' %i)\n",
    "    print('5 closest neighbors are:')\n",
    "    print(model5.wv.most_similar(i)[:5])\n",
    "    print('-'*50)"
   ]
  },
  {
   "cell_type": "markdown",
   "metadata": {},
   "source": [
    "#### Experiment 6: Model with skip-gram, with embedding size=300"
   ]
  },
  {
   "cell_type": "code",
   "execution_count": 12,
   "metadata": {
    "ExecuteTime": {
     "end_time": "2019-10-18T15:51:58.529802Z",
     "start_time": "2019-10-18T15:51:49.455034Z"
    },
    "scrolled": true
   },
   "outputs": [
    {
     "name": "stdout",
     "output_type": "stream",
     "text": [
      "Word: disease\n",
      "5 closest neighbors are:\n",
      "[('alzheimer', 0.7332377433776855), ('coronary', 0.6997089385986328), ('lyme', 0.687203049659729), ('diseases', 0.6858249306678772), ('infectious', 0.6571913957595825)]\n",
      "--------------------------------------------------\n",
      "Word: treatment\n",
      "5 closest neighbors are:\n",
      "[('radiation', 0.7353566288948059), ('ld', 0.7236878871917725), ('existent', 0.7073226571083069), ('chemotherapy', 0.7038858532905579), ('medications', 0.6999843716621399)]\n",
      "--------------------------------------------------\n",
      "Word: drug\n",
      "5 closest neighbors are:\n",
      "[('administration', 0.762872576713562), ('approved', 0.7266045808792114), ('method', 0.7100827693939209), ('reasons', 0.7014824748039246), ('gang', 0.7012131214141846)]\n",
      "--------------------------------------------------\n",
      "Word: effective\n",
      "5 closest neighbors are:\n",
      "[('safe', 0.7551177144050598), ('preference', 0.7534196376800537), ('prostate', 0.7498774528503418), ('typically', 0.7496470808982849), ('ad', 0.7446816563606262)]\n",
      "--------------------------------------------------\n",
      "Word: patient\n",
      "5 closest neighbors are:\n",
      "[('practitioner', 0.7316721081733704), ('medications', 0.7221088409423828), ('perspective', 0.7095988988876343), ('ordering', 0.7004426121711731), ('oncologist', 0.691346287727356)]\n",
      "--------------------------------------------------\n"
     ]
    }
   ],
   "source": [
    "model6 = Word2Vec(corpus, min_count = 10, size = 300, \n",
    "                  workers = 4, window = 5, sg = 1)\n",
    "## cosine similarity\n",
    "word_list = ['disease', 'treatment', 'drug', 'effective', 'patient']\n",
    "for i in word_list:\n",
    "    print('Word: %s' %i)\n",
    "    print('5 closest neighbors are:')\n",
    "    print(model6.wv.most_similar(i)[:5])\n",
    "    print('-'*50)"
   ]
  },
  {
   "cell_type": "markdown",
   "metadata": {},
   "source": [
    "### Compare Window Sizes\n",
    "Keep embedding size and model type the same"
   ]
  },
  {
   "cell_type": "markdown",
   "metadata": {},
   "source": [
    "#### Experiment 7: Model with CBOW, with window=2"
   ]
  },
  {
   "cell_type": "code",
   "execution_count": 13,
   "metadata": {
    "ExecuteTime": {
     "end_time": "2019-10-18T15:52:01.042892Z",
     "start_time": "2019-10-18T15:51:58.532764Z"
    }
   },
   "outputs": [
    {
     "name": "stdout",
     "output_type": "stream",
     "text": [
      "Word: disease\n",
      "5 closest neighbors are:\n",
      "[('treatment', 0.9078230261802673), ('diet', 0.8471344709396362), ('heart', 0.8456168174743652), ('infectious', 0.8386905789375305), ('infection', 0.8326027989387512)]\n",
      "--------------------------------------------------\n",
      "Word: treatment\n",
      "5 closest neighbors are:\n",
      "[('disease', 0.9078230857849121), ('side', 0.9040161371231079), ('risk', 0.8889400362968445), ('centers', 0.885377049446106), ('test', 0.8814008235931396)]\n",
      "--------------------------------------------------\n",
      "Word: drug\n",
      "5 closest neighbors are:\n",
      "[('test', 0.8758785724639893), ('dietary', 0.8579474687576294), ('treatment', 0.8552394509315491), ('natural', 0.8436347246170044), ('method', 0.8435922861099243)]\n",
      "--------------------------------------------------\n",
      "Word: effective\n",
      "5 closest neighbors are:\n",
      "[('important', 0.9092000722885132), ('useful', 0.906681478023529), ('common', 0.9044443964958191), ('significant', 0.898126482963562), ('small', 0.8973353505134583)]\n",
      "--------------------------------------------------\n",
      "Word: patient\n",
      "5 closest neighbors are:\n",
      "[('person', 0.9127682447433472), ('problem', 0.8936103582382202), ('condition', 0.8851459622383118), ('child', 0.8827368021011353), ('success', 0.8825277090072632)]\n",
      "--------------------------------------------------\n"
     ]
    }
   ],
   "source": [
    "model7 = Word2Vec(corpus, min_count = 10, size = 100, \n",
    "                  workers = 4, window = 2, sg = 0)\n",
    "## cosine similarity\n",
    "word_list = ['disease', 'treatment', 'drug', 'effective', 'patient']\n",
    "for i in word_list:\n",
    "    print('Word: %s' %i)\n",
    "    print('5 closest neighbors are:')\n",
    "    print(model7.wv.most_similar(i)[:5])\n",
    "    print('-'*50)"
   ]
  },
  {
   "cell_type": "markdown",
   "metadata": {},
   "source": [
    "#### Experiment 8: Model with CBOW, with window=10"
   ]
  },
  {
   "cell_type": "code",
   "execution_count": 14,
   "metadata": {
    "ExecuteTime": {
     "end_time": "2019-10-18T15:52:03.461222Z",
     "start_time": "2019-10-18T15:52:01.046789Z"
    }
   },
   "outputs": [
    {
     "name": "stdout",
     "output_type": "stream",
     "text": [
      "Word: disease\n",
      "5 closest neighbors are:\n",
      "[('treatment', 0.8798570036888123), ('drug', 0.8785004615783691), ('diseases', 0.8487732410430908), ('aids', 0.8359366059303284), ('common', 0.8267649412155151)]\n",
      "--------------------------------------------------\n",
      "Word: treatment\n",
      "5 closest neighbors are:\n",
      "[('drug', 0.9353200197219849), ('effective', 0.903861403465271), ('immune', 0.8923046588897705), ('disease', 0.8798570036888123), ('fight', 0.8785746693611145)]\n",
      "--------------------------------------------------\n",
      "Word: drug\n",
      "5 closest neighbors are:\n",
      "[('treatment', 0.9353200197219849), ('common', 0.908211886882782), ('effective', 0.8985804915428162), ('divide', 0.8930118083953857), ('azt', 0.8846619725227356)]\n",
      "--------------------------------------------------\n",
      "Word: effective\n",
      "5 closest neighbors are:\n",
      "[('common', 0.957557201385498), ('non', 0.9338162541389465), ('fungal', 0.9305246472358704), ('divide', 0.921190619468689), ('antibiotic', 0.9167952537536621)]\n",
      "--------------------------------------------------\n",
      "Word: patient\n",
      "5 closest neighbors are:\n",
      "[('given', 0.886145293712616), ('test', 0.8650234341621399), ('condition', 0.8495171666145325), ('pms', 0.8494040966033936), ('iv', 0.8474937677383423)]\n",
      "--------------------------------------------------\n"
     ]
    }
   ],
   "source": [
    "model8 = Word2Vec(corpus, min_count = 10, size = 100, \n",
    "                  workers = 4, window = 10, sg = 0)\n",
    "## cosine similarity\n",
    "word_list = ['disease', 'treatment', 'drug', 'effective', 'patient']\n",
    "for i in word_list:\n",
    "    print('Word: %s' %i)\n",
    "    print('5 closest neighbors are:')\n",
    "    print(model8.wv.most_similar(i)[:5])\n",
    "    print('-'*50)"
   ]
  },
  {
   "cell_type": "markdown",
   "metadata": {},
   "source": [
    "#### Experiment 9: Model with skip-gram, with window=2"
   ]
  },
  {
   "cell_type": "code",
   "execution_count": 15,
   "metadata": {
    "ExecuteTime": {
     "end_time": "2019-10-18T15:52:06.970669Z",
     "start_time": "2019-10-18T15:52:03.463878Z"
    }
   },
   "outputs": [
    {
     "name": "stdout",
     "output_type": "stream",
     "text": [
      "Word: disease\n",
      "5 closest neighbors are:\n",
      "[('alzheimer', 0.7246717214584351), ('infectious', 0.7190139889717102), ('coronary', 0.7138954401016235), ('virus', 0.6763666868209839), ('active', 0.6741172075271606)]\n",
      "--------------------------------------------------\n",
      "Word: treatment\n",
      "5 closest neighbors are:\n",
      "[('method', 0.8418763279914856), ('therapy', 0.8215181827545166), ('testing', 0.7922003865242004), ('lung', 0.7819364666938782), ('instance', 0.7798306345939636)]\n",
      "--------------------------------------------------\n",
      "Word: drug\n",
      "5 closest neighbors are:\n",
      "[('administration', 0.81230628490448), ('method', 0.7706379294395447), ('therapy', 0.7333471775054932), ('test', 0.7325628995895386), ('iv', 0.7290377616882324)]\n",
      "--------------------------------------------------\n",
      "Word: effective\n",
      "5 closest neighbors are:\n",
      "[('particularly', 0.8253355622291565), ('safe', 0.8186452388763428), ('dangerous', 0.8179106712341309), ('factor', 0.816403865814209), ('toxic', 0.8153945207595825)]\n",
      "--------------------------------------------------\n",
      "Word: patient\n",
      "5 closest neighbors are:\n",
      "[('practitioner', 0.8112378716468811), ('medications', 0.7996229529380798), ('remaining', 0.7677609324455261), ('argument', 0.767216682434082), ('plan', 0.7619680762290955)]\n",
      "--------------------------------------------------\n"
     ]
    }
   ],
   "source": [
    "model9 = Word2Vec(corpus, min_count = 10, size = 100, \n",
    "                  workers = 4, window = 2, sg = 1)\n",
    "## cosine similarity\n",
    "word_list = ['disease', 'treatment', 'drug', 'effective', 'patient']\n",
    "for i in word_list:\n",
    "    print('Word: %s' %i)\n",
    "    print('5 closest neighbors are:')\n",
    "    print(model9.wv.most_similar(i)[:5])\n",
    "    print('-'*50)"
   ]
  },
  {
   "cell_type": "markdown",
   "metadata": {},
   "source": [
    "#### Experiment 10: Model with skip-gram, with window=10"
   ]
  },
  {
   "cell_type": "code",
   "execution_count": 16,
   "metadata": {
    "ExecuteTime": {
     "end_time": "2019-10-18T15:52:16.672936Z",
     "start_time": "2019-10-18T15:52:06.975147Z"
    }
   },
   "outputs": [
    {
     "name": "stdout",
     "output_type": "stream",
     "text": [
      "Word: disease\n",
      "5 closest neighbors are:\n",
      "[('alzheimer', 0.7316960096359253), ('diseases', 0.651874303817749), ('race', 0.6493644118309021), ('infectious', 0.6411278247833252), ('coronary', 0.6324220895767212)]\n",
      "--------------------------------------------------\n",
      "Word: treatment\n",
      "5 closest neighbors are:\n",
      "[('radiation', 0.6790452599525452), ('treatments', 0.6412014961242676), ('itraconazole', 0.6372858285903931), ('spirochete', 0.6306982040405273), ('overuse', 0.6295500993728638)]\n",
      "--------------------------------------------------\n",
      "Word: drug\n",
      "5 closest neighbors are:\n",
      "[('administration', 0.708935558795929), ('depo', 0.7057257890701294), ('provera', 0.6962777376174927), ('injectable', 0.6919535994529724), ('resistant', 0.6792383193969727)]\n",
      "--------------------------------------------------\n",
      "Word: effective\n",
      "5 closest neighbors are:\n",
      "[('restricitng', 0.7241989374160767), ('prophylaxis', 0.7000434398651123), ('agent', 0.6962985396385193), ('challenged', 0.677463710308075), ('prostate', 0.6732975244522095)]\n",
      "--------------------------------------------------\n",
      "Word: patient\n",
      "5 closest neighbors are:\n",
      "[('lowered', 0.6477791666984558), ('transfusion', 0.6323440074920654), ('persistently', 0.6240548491477966), ('invasive', 0.618701696395874), ('biopsy', 0.6171382665634155)]\n",
      "--------------------------------------------------\n"
     ]
    }
   ],
   "source": [
    "model10 = Word2Vec(corpus, min_count = 10, size = 100, \n",
    "                  workers = 4, window = 10, sg = 1)\n",
    "## cosine similarity\n",
    "word_list = ['disease', 'treatment', 'drug', 'effective', 'patient']\n",
    "for i in word_list:\n",
    "    print('Word: %s' %i)\n",
    "    print('5 closest neighbors are:')\n",
    "    print(model10.wv.most_similar(i)[:5])\n",
    "    print('-'*50)"
   ]
  }
 ],
 "metadata": {
  "kernelspec": {
   "display_name": "Python 3",
   "language": "python",
   "name": "python3"
  },
  "language_info": {
   "codemirror_mode": {
    "name": "ipython",
    "version": 3
   },
   "file_extension": ".py",
   "mimetype": "text/x-python",
   "name": "python",
   "nbconvert_exporter": "python",
   "pygments_lexer": "ipython3",
   "version": "3.6.8"
  },
  "toc": {
   "base_numbering": 1,
   "nav_menu": {},
   "number_sections": true,
   "sideBar": true,
   "skip_h1_title": false,
   "title_cell": "Table of Contents",
   "title_sidebar": "Contents",
   "toc_cell": false,
   "toc_position": {},
   "toc_section_display": true,
   "toc_window_display": false
  }
 },
 "nbformat": 4,
 "nbformat_minor": 2
}
